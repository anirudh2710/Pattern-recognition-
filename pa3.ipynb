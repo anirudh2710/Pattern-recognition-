{
  "nbformat": 4,
  "nbformat_minor": 0,
  "metadata": {
    "colab": {
      "name": "asowmyan_Assignment3",
      "provenance": []
    },
    "kernelspec": {
      "name": "python3",
      "display_name": "Python 3"
    },
    "language_info": {
      "name": "python"
    },
    "widgets": {
      "application/vnd.jupyter.widget-state+json": {
        "efd5d2dfbd5f47988af2c52a5529a1d1": {
          "model_module": "@jupyter-widgets/controls",
          "model_name": "HBoxModel",
          "model_module_version": "1.5.0",
          "state": {
            "_dom_classes": [],
            "_model_module": "@jupyter-widgets/controls",
            "_model_module_version": "1.5.0",
            "_model_name": "HBoxModel",
            "_view_count": null,
            "_view_module": "@jupyter-widgets/controls",
            "_view_module_version": "1.5.0",
            "_view_name": "HBoxView",
            "box_style": "",
            "children": [
              "IPY_MODEL_2cb71bcebd454a4680104ef938613853",
              "IPY_MODEL_6cb53d6cb82e4ac5b9f41d7bc2989ef6",
              "IPY_MODEL_b1efcab21420485d8478a6a7d7bd2253"
            ],
            "layout": "IPY_MODEL_a5553139678c49fabadab7ff2ca15a14"
          }
        },
        "2cb71bcebd454a4680104ef938613853": {
          "model_module": "@jupyter-widgets/controls",
          "model_name": "HTMLModel",
          "model_module_version": "1.5.0",
          "state": {
            "_dom_classes": [],
            "_model_module": "@jupyter-widgets/controls",
            "_model_module_version": "1.5.0",
            "_model_name": "HTMLModel",
            "_view_count": null,
            "_view_module": "@jupyter-widgets/controls",
            "_view_module_version": "1.5.0",
            "_view_name": "HTMLView",
            "description": "",
            "description_tooltip": null,
            "layout": "IPY_MODEL_73c34f5b6ab24351b19a457af4fe413c",
            "placeholder": "​",
            "style": "IPY_MODEL_37f642ca2db7496dbe24bff8fd7bd1f0",
            "value": "Finding Elimination Order: :   0%"
          }
        },
        "6cb53d6cb82e4ac5b9f41d7bc2989ef6": {
          "model_module": "@jupyter-widgets/controls",
          "model_name": "FloatProgressModel",
          "model_module_version": "1.5.0",
          "state": {
            "_dom_classes": [],
            "_model_module": "@jupyter-widgets/controls",
            "_model_module_version": "1.5.0",
            "_model_name": "FloatProgressModel",
            "_view_count": null,
            "_view_module": "@jupyter-widgets/controls",
            "_view_module_version": "1.5.0",
            "_view_name": "ProgressView",
            "bar_style": "",
            "description": "",
            "description_tooltip": null,
            "layout": "IPY_MODEL_2ff63161c44449d0b8b6cdddb4d65991",
            "max": 2,
            "min": 0,
            "orientation": "horizontal",
            "style": "IPY_MODEL_2f448137f695404b8598978cca5b4a8f",
            "value": 0
          }
        },
        "b1efcab21420485d8478a6a7d7bd2253": {
          "model_module": "@jupyter-widgets/controls",
          "model_name": "HTMLModel",
          "model_module_version": "1.5.0",
          "state": {
            "_dom_classes": [],
            "_model_module": "@jupyter-widgets/controls",
            "_model_module_version": "1.5.0",
            "_model_name": "HTMLModel",
            "_view_count": null,
            "_view_module": "@jupyter-widgets/controls",
            "_view_module_version": "1.5.0",
            "_view_name": "HTMLView",
            "description": "",
            "description_tooltip": null,
            "layout": "IPY_MODEL_44665e69c874430da47138a82878c6d4",
            "placeholder": "​",
            "style": "IPY_MODEL_7250b27126154dfdb0a54b22278c4f2a",
            "value": " 0/2 [00:00&lt;?, ?it/s]"
          }
        },
        "a5553139678c49fabadab7ff2ca15a14": {
          "model_module": "@jupyter-widgets/base",
          "model_name": "LayoutModel",
          "model_module_version": "1.2.0",
          "state": {
            "_model_module": "@jupyter-widgets/base",
            "_model_module_version": "1.2.0",
            "_model_name": "LayoutModel",
            "_view_count": null,
            "_view_module": "@jupyter-widgets/base",
            "_view_module_version": "1.2.0",
            "_view_name": "LayoutView",
            "align_content": null,
            "align_items": null,
            "align_self": null,
            "border": null,
            "bottom": null,
            "display": null,
            "flex": null,
            "flex_flow": null,
            "grid_area": null,
            "grid_auto_columns": null,
            "grid_auto_flow": null,
            "grid_auto_rows": null,
            "grid_column": null,
            "grid_gap": null,
            "grid_row": null,
            "grid_template_areas": null,
            "grid_template_columns": null,
            "grid_template_rows": null,
            "height": null,
            "justify_content": null,
            "justify_items": null,
            "left": null,
            "margin": null,
            "max_height": null,
            "max_width": null,
            "min_height": null,
            "min_width": null,
            "object_fit": null,
            "object_position": null,
            "order": null,
            "overflow": null,
            "overflow_x": null,
            "overflow_y": null,
            "padding": null,
            "right": null,
            "top": null,
            "visibility": null,
            "width": null
          }
        },
        "73c34f5b6ab24351b19a457af4fe413c": {
          "model_module": "@jupyter-widgets/base",
          "model_name": "LayoutModel",
          "model_module_version": "1.2.0",
          "state": {
            "_model_module": "@jupyter-widgets/base",
            "_model_module_version": "1.2.0",
            "_model_name": "LayoutModel",
            "_view_count": null,
            "_view_module": "@jupyter-widgets/base",
            "_view_module_version": "1.2.0",
            "_view_name": "LayoutView",
            "align_content": null,
            "align_items": null,
            "align_self": null,
            "border": null,
            "bottom": null,
            "display": null,
            "flex": null,
            "flex_flow": null,
            "grid_area": null,
            "grid_auto_columns": null,
            "grid_auto_flow": null,
            "grid_auto_rows": null,
            "grid_column": null,
            "grid_gap": null,
            "grid_row": null,
            "grid_template_areas": null,
            "grid_template_columns": null,
            "grid_template_rows": null,
            "height": null,
            "justify_content": null,
            "justify_items": null,
            "left": null,
            "margin": null,
            "max_height": null,
            "max_width": null,
            "min_height": null,
            "min_width": null,
            "object_fit": null,
            "object_position": null,
            "order": null,
            "overflow": null,
            "overflow_x": null,
            "overflow_y": null,
            "padding": null,
            "right": null,
            "top": null,
            "visibility": null,
            "width": null
          }
        },
        "37f642ca2db7496dbe24bff8fd7bd1f0": {
          "model_module": "@jupyter-widgets/controls",
          "model_name": "DescriptionStyleModel",
          "model_module_version": "1.5.0",
          "state": {
            "_model_module": "@jupyter-widgets/controls",
            "_model_module_version": "1.5.0",
            "_model_name": "DescriptionStyleModel",
            "_view_count": null,
            "_view_module": "@jupyter-widgets/base",
            "_view_module_version": "1.2.0",
            "_view_name": "StyleView",
            "description_width": ""
          }
        },
        "2ff63161c44449d0b8b6cdddb4d65991": {
          "model_module": "@jupyter-widgets/base",
          "model_name": "LayoutModel",
          "model_module_version": "1.2.0",
          "state": {
            "_model_module": "@jupyter-widgets/base",
            "_model_module_version": "1.2.0",
            "_model_name": "LayoutModel",
            "_view_count": null,
            "_view_module": "@jupyter-widgets/base",
            "_view_module_version": "1.2.0",
            "_view_name": "LayoutView",
            "align_content": null,
            "align_items": null,
            "align_self": null,
            "border": null,
            "bottom": null,
            "display": null,
            "flex": null,
            "flex_flow": null,
            "grid_area": null,
            "grid_auto_columns": null,
            "grid_auto_flow": null,
            "grid_auto_rows": null,
            "grid_column": null,
            "grid_gap": null,
            "grid_row": null,
            "grid_template_areas": null,
            "grid_template_columns": null,
            "grid_template_rows": null,
            "height": null,
            "justify_content": null,
            "justify_items": null,
            "left": null,
            "margin": null,
            "max_height": null,
            "max_width": null,
            "min_height": null,
            "min_width": null,
            "object_fit": null,
            "object_position": null,
            "order": null,
            "overflow": null,
            "overflow_x": null,
            "overflow_y": null,
            "padding": null,
            "right": null,
            "top": null,
            "visibility": null,
            "width": null
          }
        },
        "2f448137f695404b8598978cca5b4a8f": {
          "model_module": "@jupyter-widgets/controls",
          "model_name": "ProgressStyleModel",
          "model_module_version": "1.5.0",
          "state": {
            "_model_module": "@jupyter-widgets/controls",
            "_model_module_version": "1.5.0",
            "_model_name": "ProgressStyleModel",
            "_view_count": null,
            "_view_module": "@jupyter-widgets/base",
            "_view_module_version": "1.2.0",
            "_view_name": "StyleView",
            "bar_color": null,
            "description_width": ""
          }
        },
        "44665e69c874430da47138a82878c6d4": {
          "model_module": "@jupyter-widgets/base",
          "model_name": "LayoutModel",
          "model_module_version": "1.2.0",
          "state": {
            "_model_module": "@jupyter-widgets/base",
            "_model_module_version": "1.2.0",
            "_model_name": "LayoutModel",
            "_view_count": null,
            "_view_module": "@jupyter-widgets/base",
            "_view_module_version": "1.2.0",
            "_view_name": "LayoutView",
            "align_content": null,
            "align_items": null,
            "align_self": null,
            "border": null,
            "bottom": null,
            "display": null,
            "flex": null,
            "flex_flow": null,
            "grid_area": null,
            "grid_auto_columns": null,
            "grid_auto_flow": null,
            "grid_auto_rows": null,
            "grid_column": null,
            "grid_gap": null,
            "grid_row": null,
            "grid_template_areas": null,
            "grid_template_columns": null,
            "grid_template_rows": null,
            "height": null,
            "justify_content": null,
            "justify_items": null,
            "left": null,
            "margin": null,
            "max_height": null,
            "max_width": null,
            "min_height": null,
            "min_width": null,
            "object_fit": null,
            "object_position": null,
            "order": null,
            "overflow": null,
            "overflow_x": null,
            "overflow_y": null,
            "padding": null,
            "right": null,
            "top": null,
            "visibility": null,
            "width": null
          }
        },
        "7250b27126154dfdb0a54b22278c4f2a": {
          "model_module": "@jupyter-widgets/controls",
          "model_name": "DescriptionStyleModel",
          "model_module_version": "1.5.0",
          "state": {
            "_model_module": "@jupyter-widgets/controls",
            "_model_module_version": "1.5.0",
            "_model_name": "DescriptionStyleModel",
            "_view_count": null,
            "_view_module": "@jupyter-widgets/base",
            "_view_module_version": "1.2.0",
            "_view_name": "StyleView",
            "description_width": ""
          }
        },
        "d2813ad5a8bd46218dec4b40da6cbdb7": {
          "model_module": "@jupyter-widgets/controls",
          "model_name": "HBoxModel",
          "model_module_version": "1.5.0",
          "state": {
            "_dom_classes": [],
            "_model_module": "@jupyter-widgets/controls",
            "_model_module_version": "1.5.0",
            "_model_name": "HBoxModel",
            "_view_count": null,
            "_view_module": "@jupyter-widgets/controls",
            "_view_module_version": "1.5.0",
            "_view_name": "HBoxView",
            "box_style": "",
            "children": [
              "IPY_MODEL_63397b166c404539ab78523568da7c41",
              "IPY_MODEL_06d37de12e75474db2805352c58084e6",
              "IPY_MODEL_4a79b119d83f4537ab948c03499671bf"
            ],
            "layout": "IPY_MODEL_77f65ff147774f5fa954ed22a2121536"
          }
        },
        "63397b166c404539ab78523568da7c41": {
          "model_module": "@jupyter-widgets/controls",
          "model_name": "HTMLModel",
          "model_module_version": "1.5.0",
          "state": {
            "_dom_classes": [],
            "_model_module": "@jupyter-widgets/controls",
            "_model_module_version": "1.5.0",
            "_model_name": "HTMLModel",
            "_view_count": null,
            "_view_module": "@jupyter-widgets/controls",
            "_view_module_version": "1.5.0",
            "_view_name": "HTMLView",
            "description": "",
            "description_tooltip": null,
            "layout": "IPY_MODEL_6ff530616a3a4c6fa0194fae33ec98b6",
            "placeholder": "​",
            "style": "IPY_MODEL_2cfef55c0ca34da8bd161e78a7c63d28",
            "value": "Eliminating: smoke: 100%"
          }
        },
        "06d37de12e75474db2805352c58084e6": {
          "model_module": "@jupyter-widgets/controls",
          "model_name": "FloatProgressModel",
          "model_module_version": "1.5.0",
          "state": {
            "_dom_classes": [],
            "_model_module": "@jupyter-widgets/controls",
            "_model_module_version": "1.5.0",
            "_model_name": "FloatProgressModel",
            "_view_count": null,
            "_view_module": "@jupyter-widgets/controls",
            "_view_module_version": "1.5.0",
            "_view_name": "ProgressView",
            "bar_style": "success",
            "description": "",
            "description_tooltip": null,
            "layout": "IPY_MODEL_57d5fa0e1c3647feb4747aa7b273a25e",
            "max": 2,
            "min": 0,
            "orientation": "horizontal",
            "style": "IPY_MODEL_1df87de1c8ec48b38adf8fe225fbb2dd",
            "value": 2
          }
        },
        "4a79b119d83f4537ab948c03499671bf": {
          "model_module": "@jupyter-widgets/controls",
          "model_name": "HTMLModel",
          "model_module_version": "1.5.0",
          "state": {
            "_dom_classes": [],
            "_model_module": "@jupyter-widgets/controls",
            "_model_module_version": "1.5.0",
            "_model_name": "HTMLModel",
            "_view_count": null,
            "_view_module": "@jupyter-widgets/controls",
            "_view_module_version": "1.5.0",
            "_view_name": "HTMLView",
            "description": "",
            "description_tooltip": null,
            "layout": "IPY_MODEL_53bb655ddc564133a75227b098b0b679",
            "placeholder": "​",
            "style": "IPY_MODEL_0a7c4ffc170747eeaf96402524cc8614",
            "value": " 2/2 [00:00&lt;00:00, 30.78it/s]"
          }
        },
        "77f65ff147774f5fa954ed22a2121536": {
          "model_module": "@jupyter-widgets/base",
          "model_name": "LayoutModel",
          "model_module_version": "1.2.0",
          "state": {
            "_model_module": "@jupyter-widgets/base",
            "_model_module_version": "1.2.0",
            "_model_name": "LayoutModel",
            "_view_count": null,
            "_view_module": "@jupyter-widgets/base",
            "_view_module_version": "1.2.0",
            "_view_name": "LayoutView",
            "align_content": null,
            "align_items": null,
            "align_self": null,
            "border": null,
            "bottom": null,
            "display": null,
            "flex": null,
            "flex_flow": null,
            "grid_area": null,
            "grid_auto_columns": null,
            "grid_auto_flow": null,
            "grid_auto_rows": null,
            "grid_column": null,
            "grid_gap": null,
            "grid_row": null,
            "grid_template_areas": null,
            "grid_template_columns": null,
            "grid_template_rows": null,
            "height": null,
            "justify_content": null,
            "justify_items": null,
            "left": null,
            "margin": null,
            "max_height": null,
            "max_width": null,
            "min_height": null,
            "min_width": null,
            "object_fit": null,
            "object_position": null,
            "order": null,
            "overflow": null,
            "overflow_x": null,
            "overflow_y": null,
            "padding": null,
            "right": null,
            "top": null,
            "visibility": null,
            "width": null
          }
        },
        "6ff530616a3a4c6fa0194fae33ec98b6": {
          "model_module": "@jupyter-widgets/base",
          "model_name": "LayoutModel",
          "model_module_version": "1.2.0",
          "state": {
            "_model_module": "@jupyter-widgets/base",
            "_model_module_version": "1.2.0",
            "_model_name": "LayoutModel",
            "_view_count": null,
            "_view_module": "@jupyter-widgets/base",
            "_view_module_version": "1.2.0",
            "_view_name": "LayoutView",
            "align_content": null,
            "align_items": null,
            "align_self": null,
            "border": null,
            "bottom": null,
            "display": null,
            "flex": null,
            "flex_flow": null,
            "grid_area": null,
            "grid_auto_columns": null,
            "grid_auto_flow": null,
            "grid_auto_rows": null,
            "grid_column": null,
            "grid_gap": null,
            "grid_row": null,
            "grid_template_areas": null,
            "grid_template_columns": null,
            "grid_template_rows": null,
            "height": null,
            "justify_content": null,
            "justify_items": null,
            "left": null,
            "margin": null,
            "max_height": null,
            "max_width": null,
            "min_height": null,
            "min_width": null,
            "object_fit": null,
            "object_position": null,
            "order": null,
            "overflow": null,
            "overflow_x": null,
            "overflow_y": null,
            "padding": null,
            "right": null,
            "top": null,
            "visibility": null,
            "width": null
          }
        },
        "2cfef55c0ca34da8bd161e78a7c63d28": {
          "model_module": "@jupyter-widgets/controls",
          "model_name": "DescriptionStyleModel",
          "model_module_version": "1.5.0",
          "state": {
            "_model_module": "@jupyter-widgets/controls",
            "_model_module_version": "1.5.0",
            "_model_name": "DescriptionStyleModel",
            "_view_count": null,
            "_view_module": "@jupyter-widgets/base",
            "_view_module_version": "1.2.0",
            "_view_name": "StyleView",
            "description_width": ""
          }
        },
        "57d5fa0e1c3647feb4747aa7b273a25e": {
          "model_module": "@jupyter-widgets/base",
          "model_name": "LayoutModel",
          "model_module_version": "1.2.0",
          "state": {
            "_model_module": "@jupyter-widgets/base",
            "_model_module_version": "1.2.0",
            "_model_name": "LayoutModel",
            "_view_count": null,
            "_view_module": "@jupyter-widgets/base",
            "_view_module_version": "1.2.0",
            "_view_name": "LayoutView",
            "align_content": null,
            "align_items": null,
            "align_self": null,
            "border": null,
            "bottom": null,
            "display": null,
            "flex": null,
            "flex_flow": null,
            "grid_area": null,
            "grid_auto_columns": null,
            "grid_auto_flow": null,
            "grid_auto_rows": null,
            "grid_column": null,
            "grid_gap": null,
            "grid_row": null,
            "grid_template_areas": null,
            "grid_template_columns": null,
            "grid_template_rows": null,
            "height": null,
            "justify_content": null,
            "justify_items": null,
            "left": null,
            "margin": null,
            "max_height": null,
            "max_width": null,
            "min_height": null,
            "min_width": null,
            "object_fit": null,
            "object_position": null,
            "order": null,
            "overflow": null,
            "overflow_x": null,
            "overflow_y": null,
            "padding": null,
            "right": null,
            "top": null,
            "visibility": null,
            "width": null
          }
        },
        "1df87de1c8ec48b38adf8fe225fbb2dd": {
          "model_module": "@jupyter-widgets/controls",
          "model_name": "ProgressStyleModel",
          "model_module_version": "1.5.0",
          "state": {
            "_model_module": "@jupyter-widgets/controls",
            "_model_module_version": "1.5.0",
            "_model_name": "ProgressStyleModel",
            "_view_count": null,
            "_view_module": "@jupyter-widgets/base",
            "_view_module_version": "1.2.0",
            "_view_name": "StyleView",
            "bar_color": null,
            "description_width": ""
          }
        },
        "53bb655ddc564133a75227b098b0b679": {
          "model_module": "@jupyter-widgets/base",
          "model_name": "LayoutModel",
          "model_module_version": "1.2.0",
          "state": {
            "_model_module": "@jupyter-widgets/base",
            "_model_module_version": "1.2.0",
            "_model_name": "LayoutModel",
            "_view_count": null,
            "_view_module": "@jupyter-widgets/base",
            "_view_module_version": "1.2.0",
            "_view_name": "LayoutView",
            "align_content": null,
            "align_items": null,
            "align_self": null,
            "border": null,
            "bottom": null,
            "display": null,
            "flex": null,
            "flex_flow": null,
            "grid_area": null,
            "grid_auto_columns": null,
            "grid_auto_flow": null,
            "grid_auto_rows": null,
            "grid_column": null,
            "grid_gap": null,
            "grid_row": null,
            "grid_template_areas": null,
            "grid_template_columns": null,
            "grid_template_rows": null,
            "height": null,
            "justify_content": null,
            "justify_items": null,
            "left": null,
            "margin": null,
            "max_height": null,
            "max_width": null,
            "min_height": null,
            "min_width": null,
            "object_fit": null,
            "object_position": null,
            "order": null,
            "overflow": null,
            "overflow_x": null,
            "overflow_y": null,
            "padding": null,
            "right": null,
            "top": null,
            "visibility": null,
            "width": null
          }
        },
        "0a7c4ffc170747eeaf96402524cc8614": {
          "model_module": "@jupyter-widgets/controls",
          "model_name": "DescriptionStyleModel",
          "model_module_version": "1.5.0",
          "state": {
            "_model_module": "@jupyter-widgets/controls",
            "_model_module_version": "1.5.0",
            "_model_name": "DescriptionStyleModel",
            "_view_count": null,
            "_view_module": "@jupyter-widgets/base",
            "_view_module_version": "1.2.0",
            "_view_name": "StyleView",
            "description_width": ""
          }
        }
      }
    }
  },
  "cells": [
    {
      "cell_type": "markdown",
      "source": [
        "# Task 1"
      ],
      "metadata": {
        "id": "xgoDZVmbNrDY"
      }
    },
    {
      "cell_type": "code",
      "source": [
        "!pip install pgmpy"
      ],
      "metadata": {
        "colab": {
          "base_uri": "https://localhost:8080/"
        },
        "id": "WMO0cuYuu91c",
        "outputId": "af941498-5855-4aa3-b8e6-367cdeb1470b"
      },
      "execution_count": 21,
      "outputs": [
        {
          "output_type": "stream",
          "name": "stdout",
          "text": [
            "Requirement already satisfied: pgmpy in /usr/local/lib/python3.7/dist-packages (0.1.18)\n",
            "Requirement already satisfied: pandas in /usr/local/lib/python3.7/dist-packages (from pgmpy) (1.3.5)\n",
            "Requirement already satisfied: joblib in /usr/local/lib/python3.7/dist-packages (from pgmpy) (1.1.0)\n",
            "Requirement already satisfied: networkx in /usr/local/lib/python3.7/dist-packages (from pgmpy) (2.6.3)\n",
            "Requirement already satisfied: scikit-learn in /usr/local/lib/python3.7/dist-packages (from pgmpy) (1.0.2)\n",
            "Requirement already satisfied: numpy in /usr/local/lib/python3.7/dist-packages (from pgmpy) (1.21.5)\n",
            "Requirement already satisfied: statsmodels in /usr/local/lib/python3.7/dist-packages (from pgmpy) (0.10.2)\n",
            "Requirement already satisfied: torch in /usr/local/lib/python3.7/dist-packages (from pgmpy) (1.10.0+cu111)\n",
            "Requirement already satisfied: scipy in /usr/local/lib/python3.7/dist-packages (from pgmpy) (1.4.1)\n",
            "Requirement already satisfied: tqdm in /usr/local/lib/python3.7/dist-packages (from pgmpy) (4.63.0)\n",
            "Requirement already satisfied: pyparsing in /usr/local/lib/python3.7/dist-packages (from pgmpy) (3.0.7)\n",
            "Requirement already satisfied: pytz>=2017.3 in /usr/local/lib/python3.7/dist-packages (from pandas->pgmpy) (2018.9)\n",
            "Requirement already satisfied: python-dateutil>=2.7.3 in /usr/local/lib/python3.7/dist-packages (from pandas->pgmpy) (2.8.2)\n",
            "Requirement already satisfied: six>=1.5 in /usr/local/lib/python3.7/dist-packages (from python-dateutil>=2.7.3->pandas->pgmpy) (1.15.0)\n",
            "Requirement already satisfied: threadpoolctl>=2.0.0 in /usr/local/lib/python3.7/dist-packages (from scikit-learn->pgmpy) (3.1.0)\n",
            "Requirement already satisfied: patsy>=0.4.0 in /usr/local/lib/python3.7/dist-packages (from statsmodels->pgmpy) (0.5.2)\n",
            "Requirement already satisfied: typing-extensions in /usr/local/lib/python3.7/dist-packages (from torch->pgmpy) (3.10.0.2)\n"
          ]
        }
      ]
    },
    {
      "cell_type": "markdown",
      "source": [
        "### Task 1 Part1"
      ],
      "metadata": {
        "id": "mfoPbrq6aO4K"
      }
    },
    {
      "cell_type": "code",
      "source": [
        "#importing necessary packages\n",
        "import pgmpy\n",
        "from pgmpy.models import BayesianModel\n",
        "from pgmpy.factors.discrete import TabularCPD as tcpd\n",
        "import pylab as plt\n",
        "import networkx as nx\n",
        "from pgmpy.inference import VariableElimination"
      ],
      "metadata": {
        "id": "0TCzn7KQNGhU"
      },
      "execution_count": 22,
      "outputs": []
    },
    {
      "cell_type": "code",
      "source": [
        "#building the graph values\n",
        "graph_model = BayesianModel([('asia', 'tub'),('tub', 'either'),('smoke', 'lung'), ('smoke', 'bronc'),  ('lung', 'either'), ('either', 'xray'), ('either', 'dysp'),('bronc', 'dysp')])\n",
        "\n",
        "asia = tcpd(variable='asia', variable_card = 2, \n",
        "                      values = [[0.01], [0.99]])\n",
        "smoke = tcpd(variable='smoke', variable_card = 2, \n",
        "                       values = [[0.5], [0.5]])\n",
        "tub = tcpd(variable='tub', variable_card=2, \n",
        "                     values=[[0.05, 0.01],[0.95, 0.99]], \n",
        "                     evidence = ['asia'], evidence_card = [2])\n",
        "lung = tcpd(variable='lung', variable_card=2,\n",
        "                      values=[[0.1, 0.01],[0.9, 0.99]], \n",
        "                      evidence = ['smoke'], evidence_card = [2])\n",
        "bronc = tcpd(variable='bronc', variable_card=2, \n",
        "                       values=[[0.6, 0.3],[0.4, 0.7]], \n",
        "                       evidence = ['smoke'], evidence_card = [2])\n",
        "either = tcpd(variable='either', variable_card=2, \n",
        "                        values=[[1, 1, 1, 0],[0, 0, 0, 1]], \n",
        "                        evidence = ['tub', 'lung'], evidence_card = [2, 2])\n",
        "xray = tcpd(variable='xray', variable_card=2, \n",
        "                      values=[[0.98, 0.05],[0.02, 0.95]], \n",
        "                      evidence = ['either'], evidence_card = [2])\n",
        "\n",
        "dysp = tcpd(variable='dysp', variable_card=2, \n",
        "                      values=[[0.9, 0.7, 0.8, 0.1],[0.1, 0.3, 0.2, 0.9]], \n",
        "                      evidence = ['bronc', 'either'], evidence_card = [2, 2])\n",
        "\n",
        "\n",
        "graph_model.add_cpds(asia,smoke,tub,lung,bronc,either,xray,dysp)"
      ],
      "metadata": {
        "colab": {
          "base_uri": "https://localhost:8080/"
        },
        "id": "lh5L_9jSNKdV",
        "outputId": "c3717b26-46d2-40ee-bd2a-524bc4feb2a7"
      },
      "execution_count": 23,
      "outputs": [
        {
          "output_type": "stream",
          "name": "stderr",
          "text": [
            "/usr/local/lib/python3.7/dist-packages/pgmpy/models/BayesianModel.py:10: FutureWarning: BayesianModel has been renamed to BayesianNetwork. Please use BayesianNetwork class, BayesianModel will be removed in future.\n",
            "  FutureWarning,\n"
          ]
        }
      ]
    },
    {
      "cell_type": "markdown",
      "source": [
        "Moral Graph, Triangulated graph, Junction tree"
      ],
      "metadata": {
        "id": "70Lca-puNiNF"
      }
    },
    {
      "cell_type": "code",
      "source": [
        "#setting the graph functions\n",
        "moral_graph = graph_model.to_markov_model()\n",
        "triangulated_graph = moral_graph.triangulate()\n",
        "junc_tree_graph = triangulated_graph.to_junction_tree()"
      ],
      "metadata": {
        "id": "8kiDGmGCRaZP"
      },
      "execution_count": 24,
      "outputs": []
    },
    {
      "cell_type": "markdown",
      "source": [
        "Display Moral graph"
      ],
      "metadata": {
        "id": "4ODbOdmlRhMH"
      }
    },
    {
      "cell_type": "code",
      "source": [
        "#plotting moral graph\n",
        "plt.figure()\n",
        "plt.title('Moralized Graph')\n",
        "nx.draw(moral_graph, with_labels=True, node_color= 'w', node_size=2000, font_size=10, font_color='red')\n",
        "plt.savefig('Moralize.png')\n",
        "plt.show()"
      ],
      "metadata": {
        "colab": {
          "base_uri": "https://localhost:8080/",
          "height": 264
        },
        "id": "YdP_ACyQNORf",
        "outputId": "2dae4983-4307-4797-cf66-7d661c433b12"
      },
      "execution_count": 25,
      "outputs": [
        {
          "output_type": "display_data",
          "data": {
            "text/plain": [
              "<Figure size 432x288 with 1 Axes>"
            ],
            "image/png": "[encoded data removed]"
          },
          "metadata": {}
        }
      ]
    },
    {
      "cell_type": "markdown",
      "source": [
        "Display Triangulated Graph"
      ],
      "metadata": {
        "id": "3jGZb2UjNwFn"
      }
    },
    {
      "cell_type": "code",
      "source": [
        "#plotting triangulated graph\n",
        "plt.figure()\n",
        "plt.title('Triangulated Graph')\n",
        "nx.draw(triangulated_graph, with_labels=True, node_color= 'g', node_size=2000, font_size=10, font_color='white')\n",
        "plt.savefig('Triangulate.png')\n",
        "plt.show()"
      ],
      "metadata": {
        "colab": {
          "base_uri": "https://localhost:8080/",
          "height": 264
        },
        "id": "wypo8stbNYYA",
        "outputId": "3d682a98-8efa-4869-c29a-37981c1c3835"
      },
      "execution_count": 26,
      "outputs": [
        {
          "output_type": "display_data",
          "data": {
            "text/plain": [
              "<Figure size 432x288 with 1 Axes>"
            ],
            "image/png": "[encoded data removed]"
          },
          "metadata": {}
        }
      ]
    },
    {
      "cell_type": "markdown",
      "source": [
        "Display Junction Tree"
      ],
      "metadata": {
        "id": "dqgHYeWwP2Ib"
      }
    },
    {
      "cell_type": "code",
      "source": [
        "#plotting junction tree\n",
        "pos = nx.spring_layout(junc_tree_graph)   \n",
        "plt.figure()\n",
        "plt.title('Junction Tree Graph')\n",
        "nx.draw(junc_tree_graph, with_labels=True, node_color= 'orange', node_size=2000, font_size=10, font_color='blue')\n",
        "x_values, y_values = zip(*pos.values())\n",
        "x_max = max(x_values)\n",
        "x_min = min(x_values)\n",
        "x_margin = (x_max - x_min) * 0.8\n",
        "plt.xlim(x_min - x_margin, x_max + x_margin)\n",
        "plt.savefig('juncTree.png')\n",
        "plt.show()"
      ],
      "metadata": {
        "colab": {
          "base_uri": "https://localhost:8080/",
          "height": 264
        },
        "id": "JsMxzVSfPkgH",
        "outputId": "6274e149-4040-483a-9439-0ff4cf53fe69"
      },
      "execution_count": 27,
      "outputs": [
        {
          "output_type": "display_data",
          "data": {
            "text/plain": [
              "<Figure size 432x288 with 1 Axes>"
            ],
            "image/png": "[encoded data removed]"
          },
          "metadata": {}
        }
      ]
    },
    {
      "cell_type": "markdown",
      "source": [
        "### Task 1 Part 2"
      ],
      "metadata": {
        "id": "kaW-ui7SaWK_"
      }
    },
    {
      "cell_type": "markdown",
      "source": [
        "For two clusters, if there exists a common node in both clusters, the Running intersection property is satisfied if the common node is present in all possible clusters between the two clusters.\\\n",
        "Here in our clusters:\n",
        "{'xray', 'bronc', 'smoke', 'lung', 'tub'}, {'xray', 'tub', 'lung', 'asia', 'smoke'}, {'xray', 'tub', 'lung', 'bronc', 'dysp', 'either'} -   \n",
        "{'xray', 'tub', 'lung'} exists in every cluster. \\\n",
        " Thus junction tree satisfies the running intersection property."
      ],
      "metadata": {
        "id": "VXlQgnIyaaG-"
      }
    },
    {
      "cell_type": "markdown",
      "source": [
        "# Task 2"
      ],
      "metadata": {
        "id": "MNnsy-swoZtN"
      }
    },
    {
      "cell_type": "markdown",
      "source": [
        "### Task 2 Part 1"
      ],
      "metadata": {
        "id": "esAnnku9l1qm"
      }
    },
    {
      "cell_type": "markdown",
      "source": [
        "$$p(V) = p(A) p(T | A) p(S) p(L | S) p(B | S) p(E | T, L) p(D | E, B) p(X | E)$$<br>\n",
        "Considering all events of the random variables, the left side is the joint probability. Right side is the chain rule product of all individual indipendencies and the CPD's. The joint probability distribution increases exponentially as the number of variables increases. The distribution in the right side is done by variable elimination method; thus doing marginalization over small factors. Hence marginalization is basically computing the product of all factors having variables and marginalize them if they have to be eliminated."
      ],
      "metadata": {
        "id": "n59JBQX0i4zb"
      }
    },
    {
      "cell_type": "markdown",
      "source": [
        "### Task 2 Part 2"
      ],
      "metadata": {
        "id": "ShXQ91OGl8Fh"
      }
    },
    {
      "cell_type": "markdown",
      "source": [
        "The message passing algorithm basically sends the message between clusters. There exists a 'seperation set' between clusters, which are collectively the common variables between the nodes of clusters. Each cluster sends a message and computes the 'marginal density' of the same. \n",
        "\n",
        "####Node 1: {'xray', 'bronc', 'smoke', 'lung', 'tub'}\n",
        "####Node 2: {'xray', 'tub', 'lung', 'asia', 'smoke'}\n",
        "####Node 3: {'xray', 'tub', 'lung', 'bronc', 'dysp', 'either'}\n",
        "\n",
        "\n",
        "## Equation : \n",
        "$$p(V) = p(A) p(T | A) p(S) p(L | S) p(B | S) p(E | T, L) p(D | E, B) p(X | E)$$<br>\n",
        "\n",
        "###Iteration 1 : \n",
        "Initially message will be passed from Node 1 to Node 2 (since Node 1 is a leaf node). 'bronc' is the only uncommon element. So we marginalize over 'bronc'. \n",
        "$$\\Psi_{1}(X, T, L, S) = \\sum_{B} p(B | S)$$<br>\n",
        "\n",
        "###Iteration 2 : \n",
        "Then the message is passed from Node 2 to Node 3. We marginalize over 'asia', 'smoke', since they are the uncommon elements.\n",
        "$$\\Psi_{2}(X, T, L) = \\sum_{A, S} p(A) p(T | A)p(S)p(L|S) \\Psi_{1}(X, T, L, S) $$ <br>\n",
        "\n",
        "###Iteration 3 : \n",
        "After Iteration 3, it propagates back to Node 1, so that all clusters have marginals.\n",
        "$$\\Psi_{3} = \\sum_{T, S, A, X, D, B} p(E|T,L) p(E | T, L)p(X|E) \\Psi_{2}(X, T, L)$$ <br>\n",
        "\n",
        "\n",
        "which gives the original equation - $$p(V) = p(A) p(T | A) p(S) p(L | S) p(B | S) p(E | T, L) p(D | E, B) p(X | E)$$<br>\n",
        "\n",
        "So message passing algorithm gives cluster marginals."
      ],
      "metadata": {
        "id": "NC1wQeSDM2mT"
      }
    },
    {
      "cell_type": "markdown",
      "source": [
        "### Task 2 Part 3"
      ],
      "metadata": {
        "id": "5yWzvJfq5LJi"
      }
    },
    {
      "cell_type": "code",
      "source": [
        "model_inference = VariableElimination(graph_model)\n",
        "query = model_inference.query(variables=['tub', 'lung','bronc'],evidence={'asia': 0, 'xray': 0}, joint= True)\n",
        "#print('The Joint Probability for {tub, lung, bronc} for the given evidence is ' + str(query))\n",
        "print(str(query))"
      ],
      "metadata": {
        "colab": {
          "base_uri": "https://localhost:8080/",
          "height": 411,
          "referenced_widgets": [
            "efd5d2dfbd5f47988af2c52a5529a1d1",
            "2cb71bcebd454a4680104ef938613853",
            "6cb53d6cb82e4ac5b9f41d7bc2989ef6",
            "b1efcab21420485d8478a6a7d7bd2253",
            "a5553139678c49fabadab7ff2ca15a14",
            "73c34f5b6ab24351b19a457af4fe413c",
            "37f642ca2db7496dbe24bff8fd7bd1f0",
            "2ff63161c44449d0b8b6cdddb4d65991",
            "2f448137f695404b8598978cca5b4a8f",
            "44665e69c874430da47138a82878c6d4",
            "7250b27126154dfdb0a54b22278c4f2a",
            "d2813ad5a8bd46218dec4b40da6cbdb7",
            "63397b166c404539ab78523568da7c41",
            "06d37de12e75474db2805352c58084e6",
            "4a79b119d83f4537ab948c03499671bf",
            "77f65ff147774f5fa954ed22a2121536",
            "6ff530616a3a4c6fa0194fae33ec98b6",
            "2cfef55c0ca34da8bd161e78a7c63d28",
            "57d5fa0e1c3647feb4747aa7b273a25e",
            "1df87de1c8ec48b38adf8fe225fbb2dd",
            "53bb655ddc564133a75227b098b0b679",
            "0a7c4ffc170747eeaf96402524cc8614"
          ]
        },
        "id": "Fb18gex65M2P",
        "outputId": "5d2aea25-6f13-4a6c-e853-7b592d8baa26"
      },
      "execution_count": null,
      "outputs": [
        {
          "output_type": "display_data",
          "data": {
            "text/plain": [
              "  0%|          | 0/2 [00:00<?, ?it/s]"
            ],
            "application/vnd.jupyter.widget-view+json": {
              "version_major": 2,
              "version_minor": 0,
              "model_id": "efd5d2dfbd5f47988af2c52a5529a1d1"
            }
          },
          "metadata": {}
        },
        {
          "output_type": "display_data",
          "data": {
            "text/plain": [
              "  0%|          | 0/2 [00:00<?, ?it/s]"
            ],
            "application/vnd.jupyter.widget-view+json": {
              "version_major": 2,
              "version_minor": 0,
              "model_id": "d2813ad5a8bd46218dec4b40da6cbdb7"
            }
          },
          "metadata": {}
        },
        {
          "output_type": "stream",
          "name": "stdout",
          "text": [
            "+--------+---------+----------+-----------------------+\n",
            "| tub    | lung    | bronc    |   phi(tub,lung,bronc) |\n",
            "+========+=========+==========+=======================+\n",
            "| tub(0) | lung(0) | bronc(0) |                0.0106 |\n",
            "+--------+---------+----------+-----------------------+\n",
            "| tub(0) | lung(0) | bronc(1) |                0.0079 |\n",
            "+--------+---------+----------+-----------------------+\n",
            "| tub(0) | lung(1) | bronc(0) |                0.1413 |\n",
            "+--------+---------+----------+-----------------------+\n",
            "| tub(0) | lung(1) | bronc(1) |                0.1778 |\n",
            "+--------+---------+----------+-----------------------+\n",
            "| tub(1) | lung(0) | bronc(0) |                0.2021 |\n",
            "+--------+---------+----------+-----------------------+\n",
            "| tub(1) | lung(0) | bronc(1) |                0.1508 |\n",
            "+--------+---------+----------+-----------------------+\n",
            "| tub(1) | lung(1) | bronc(0) |                0.1370 |\n",
            "+--------+---------+----------+-----------------------+\n",
            "| tub(1) | lung(1) | bronc(1) |                0.1724 |\n",
            "+--------+---------+----------+-----------------------+\n"
          ]
        }
      ]
    },
    {
      "cell_type": "markdown",
      "source": [
        "The probability of tub(0), lung(0), bronc(0) with asia and xray - 0 is 0.0106"
      ],
      "metadata": {
        "id": "6Yb7wZpdl4jG"
      }
    },
    {
      "cell_type": "markdown",
      "source": [
        "## References\n",
        "1. Pattern Classificaiton book by Duda, Hart, Stork\n",
        "2. https://en.wikipedia.org/wiki/Belief_propagation\n",
        "3. https://pgmpy.org/\n",
        "4. Building Probabilistic Graphical Models with Python"
      ],
      "metadata": {
        "id": "Pm04F_GqkP6-"
      }
    },
    {
      "cell_type": "code",
      "source": [
        ""
      ],
      "metadata": {
        "id": "enLSGlCJkQa_"
      },
      "execution_count": null,
      "outputs": []
    }
  ]
}
